{
 "cells": [
  {
   "cell_type": "markdown",
   "id": "1abfaedd-834b-41c8-acb6-df8ab2a06c55",
   "metadata": {},
   "source": [
    "# Data Science Tools and Ecosystem"
   ]
  },
  {
   "cell_type": "markdown",
   "id": "a735b5fc-1bfc-494e-a0c4-40dd72feaa2f",
   "metadata": {},
   "source": [
    "In this notebook, Data Science Tools and Ecosystem are summarized."
   ]
  },
  {
   "cell_type": "markdown",
   "id": "62324d44-0e33-475b-adff-397aed2bab9e",
   "metadata": {},
   "source": [
    "**Objectives:** \n",
    "* List popular languages for Data Science\n",
    "* Sources of data sets\n",
    "* Libraries for data science"
   ]
  },
  {
   "cell_type": "markdown",
   "id": "62f27407-74c3-4d24-9fa9-c2a000a17aa5",
   "metadata": {},
   "source": [
    "Some of the popular languages that Data Scientists use are:\n",
    "1. Python\n",
    "2. R\n",
    "3. JAVA\n",
    "4. Julia"
   ]
  },
  {
   "cell_type": "markdown",
   "id": "bb4a3e39-b3a4-46cd-8719-5cb3bcf532c2",
   "metadata": {},
   "source": [
    "Some commonly used libraries by Data scientists include:\n",
    "1. Pandas\n",
    "2. keras\n",
    "3. plotly"
   ]
  },
  {
   "cell_type": "markdown",
   "id": "7feed670-9ab6-43b6-88fe-3a1a1c5f4239",
   "metadata": {},
   "source": [
    "| Data Science Tools |\n",
    "| ------------------ |\n",
    "| R |\n",
    "| Anaconda |\n",
    "| Jupyter Notebook |"
   ]
  },
  {
   "cell_type": "markdown",
   "id": "3b8e1944-3d72-4af3-a1c8-7781fc55f7ad",
   "metadata": {},
   "source": [
    "### Below are a few examples of evaluating arithmetic expressions in Python"
   ]
  },
  {
   "cell_type": "code",
   "execution_count": 4,
   "id": "f559b8db-663d-4fb3-abdb-a5e7ceb82157",
   "metadata": {},
   "outputs": [
    {
     "data": {
      "text/plain": [
       "17"
      ]
     },
     "execution_count": 4,
     "metadata": {},
     "output_type": "execute_result"
    }
   ],
   "source": [
    "# This a simple arithmetic expression to mutiply then add integers\n",
    "(3*4)+5"
   ]
  },
  {
   "cell_type": "code",
   "execution_count": 7,
   "id": "f7de0765-b5af-4255-820f-7dff84fa1533",
   "metadata": {},
   "outputs": [
    {
     "name": "stdout",
     "output_type": "stream",
     "text": [
      "3.3333333333333335 hours\n"
     ]
    }
   ],
   "source": [
    "# This will convert 200 minutes to hours by diving by 60\n",
    "minute = 200 \n",
    "time_hours = minute/60\n",
    "x = float(time_hours)\n",
    "print(x, \"hours\")"
   ]
  },
  {
   "cell_type": "markdown",
   "id": "b4943e1c-cf89-4ce9-9ca2-ab81e58394f4",
   "metadata": {},
   "source": [
    "## Author\n",
    "Thalha"
   ]
  },
  {
   "cell_type": "code",
   "execution_count": null,
   "id": "472ca6a9-e3fa-448b-b0e5-fa020bd4501e",
   "metadata": {},
   "outputs": [],
   "source": []
  }
 ],
 "metadata": {
  "kernelspec": {
   "display_name": "Python 3 (ipykernel)",
   "language": "python",
   "name": "python3"
  },
  "language_info": {
   "codemirror_mode": {
    "name": "ipython",
    "version": 3
   },
   "file_extension": ".py",
   "mimetype": "text/x-python",
   "name": "python",
   "nbconvert_exporter": "python",
   "pygments_lexer": "ipython3",
   "version": "3.12.8"
  }
 },
 "nbformat": 4,
 "nbformat_minor": 5
}
